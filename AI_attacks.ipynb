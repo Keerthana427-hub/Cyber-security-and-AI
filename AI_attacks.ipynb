{
 "cells": [
  {
   "cell_type": "markdown",
   "id": "a6386288",
   "metadata": {
    "id": "a6386288"
   },
   "source": [
    "\n",
    "# MNIST Digit Classification and FGSM Attack\n",
    "\n",
    "The following code will guide you through training a simple Multi-Layer Perceptron (MLP) model using Keras on the MNIST dataset. We will then implement the Fast Gradient Sign Method (FGSM) attack to generate adversarial examples and observe how they affect model performance.\n",
    "\n",
    "## About MNIST Dataset\n",
    "MNIST (Modified National Institute of Standards and Technology) is a dataset of 70,000 grayscale images of handwritten digits (0-9), each of size 28x28 pixels. The dataset is commonly used for training and testing machine learning models for digit recognition. It consists of:\n",
    "- 60,000 training images\n",
    "- 10,000 test images\n",
    "- Labels corresponding to digits from 0 to 9\n"
   ]
  },
  {
   "cell_type": "markdown",
   "id": "34673d1f",
   "metadata": {
    "id": "34673d1f"
   },
   "source": [
    "## Step 1: Importing Required Libraries"
   ]
  },
  {
   "cell_type": "code",
   "execution_count": 1,
   "id": "dededee8",
   "metadata": {
    "id": "dededee8"
   },
   "outputs": [],
   "source": [
    "\n",
    "import tensorflow as tf\n",
    "from tensorflow import keras\n",
    "from tensorflow.keras import layers\n",
    "import numpy as np\n",
    "import matplotlib.pyplot as plt\n"
   ]
  },
  {
   "cell_type": "markdown",
   "id": "cb3c8d25",
   "metadata": {
    "id": "cb3c8d25"
   },
   "source": [
    "## Step 2: Loading and Preprocessing the MNIST Dataset"
   ]
  },
  {
   "cell_type": "code",
   "execution_count": 3,
   "id": "a2e91b15",
   "metadata": {
    "id": "a2e91b15"
   },
   "outputs": [
    {
     "name": "stdout",
     "output_type": "stream",
     "text": [
      "Downloading data from https://storage.googleapis.com/tensorflow/tf-keras-datasets/mnist.npz\n",
      "\u001b[1m11490434/11490434\u001b[0m \u001b[32m━━━━━━━━━━━━━━━━━━━━\u001b[0m\u001b[37m\u001b[0m \u001b[1m1s\u001b[0m 0us/step\n"
     ]
    }
   ],
   "source": [
    "\n",
    "# Load the MNIST dataset from Keras datasets\n",
    "# This returns two tuples:\n",
    "# - (x_train, y_train): Training images and their corresponding labels\n",
    "# - (x_test, y_test): Testing images and their corresponding labels\n",
    "(x_train, y_train), (x_test, y_test) = keras.datasets.mnist.load_data()\n",
    "\n",
    "# Normalize the pixel values to the range [0,1] by dividing by 255\n",
    "# This helps in faster and more stable training of the neural network\n",
    "x_train, x_test = x_train / 255.0, x_test / 255.0\n",
    "\n",
    "# Reshape the images from 28x28 (2D) to a single 784-dimensional vector (1D)\n",
    "# -1 automatically infers the batch size, keeping all images\n",
    "# This transformation is necessary for feeding into a fully connected neural network\n",
    "x_train = x_train.reshape(-1, 28*28)\n",
    "x_test = x_test.reshape(-1, 28*28)\n",
    "\n",
    "# Convert the labels from integer format (0-9) to one-hot encoded format\n",
    "# Example: Label \"3\" → [0, 0, 0, 1, 0, 0, 0, 0, 0, 0]\n",
    "# This is required for categorical classification in neural networks\n",
    "y_train = keras.utils.to_categorical(y_train, 10)\n",
    "y_test = keras.utils.to_categorical(y_test, 10)\n",
    "\n"
   ]
  },
  {
   "cell_type": "markdown",
   "id": "5dc790d2",
   "metadata": {
    "id": "5dc790d2"
   },
   "source": [
    "## Step 3: Building the MLP Model"
   ]
  },
  {
   "cell_type": "code",
   "execution_count": 5,
   "id": "8712fa84",
   "metadata": {
    "id": "8712fa84"
   },
   "outputs": [
    {
     "name": "stderr",
     "output_type": "stream",
     "text": [
      "C:\\Users\\ccs\\anaconda3\\Lib\\site-packages\\keras\\src\\layers\\core\\dense.py:87: UserWarning: Do not pass an `input_shape`/`input_dim` argument to a layer. When using Sequential models, prefer using an `Input(shape)` object as the first layer in the model instead.\n",
      "  super().__init__(activity_regularizer=activity_regularizer, **kwargs)\n"
     ]
    }
   ],
   "source": [
    "\n",
    "# Defining a Multi-Layer Perceptron (MLP) model for MNIST digit classification.\n",
    "# We will use Keras' Sequential API to stack layers in a simple feedforward manner.\n",
    "\n",
    "# The model consists of three layers:\n",
    "# 1. **First Hidden Layer (512 neurons, ReLU activation)**:\n",
    "#    - The input layer expects images of size 28x28, which are flattened into a 784-dimensional vector.\n",
    "#    - This layer has 512 neurons to learn complex features from the digit images.\n",
    "#    - The activation function used is **ReLU (Rectified Linear Unit)**, which helps introduce non-linearity and prevents the vanishing gradient problem.\n",
    "\n",
    "# 2. **Second Hidden Layer (256 neurons, ReLU activation)**:\n",
    "#    - A fully connected layer with 256 neurons.\n",
    "#    - Also uses **ReLU activation** to maintain non-linearity.\n",
    "\n",
    "# 3. **Output Layer (10 neurons, Softmax activation)**:\n",
    "#    - The final layer has **10 neurons**, corresponding to the 10 digit classes (0-9).\n",
    "#    - The **Softmax activation function** is used to output probability distributions over the 10 classes.\n",
    "\n",
    "model = keras.Sequential([\n",
    "    layers.Dense(512, activation='relu', input_shape=(28*28,)),\n",
    "    layers.Dense(256, activation='relu'),\n",
    "    layers.Dense(10, activation='softmax')\n",
    "])\n"
   ]
  },
  {
   "cell_type": "markdown",
   "id": "2e14e4ac",
   "metadata": {
    "id": "2e14e4ac"
   },
   "source": [
    "## Step 4: Compiling and Training the Model"
   ]
  },
  {
   "cell_type": "code",
   "execution_count": 7,
   "id": "e59c17e5",
   "metadata": {
    "id": "e59c17e5"
   },
   "outputs": [
    {
     "name": "stdout",
     "output_type": "stream",
     "text": [
      "Epoch 1/10\n",
      "\u001b[1m469/469\u001b[0m \u001b[32m━━━━━━━━━━━━━━━━━━━━\u001b[0m\u001b[37m\u001b[0m \u001b[1m7s\u001b[0m 8ms/step - accuracy: 0.8771 - loss: 0.4208 - val_accuracy: 0.9650 - val_loss: 0.1103\n",
      "Epoch 2/10\n",
      "\u001b[1m469/469\u001b[0m \u001b[32m━━━━━━━━━━━━━━━━━━━━\u001b[0m\u001b[37m\u001b[0m \u001b[1m3s\u001b[0m 7ms/step - accuracy: 0.9748 - loss: 0.0839 - val_accuracy: 0.9735 - val_loss: 0.0811\n",
      "Epoch 3/10\n",
      "\u001b[1m469/469\u001b[0m \u001b[32m━━━━━━━━━━━━━━━━━━━━\u001b[0m\u001b[37m\u001b[0m \u001b[1m3s\u001b[0m 7ms/step - accuracy: 0.9850 - loss: 0.0503 - val_accuracy: 0.9774 - val_loss: 0.0724\n",
      "Epoch 4/10\n",
      "\u001b[1m469/469\u001b[0m \u001b[32m━━━━━━━━━━━━━━━━━━━━\u001b[0m\u001b[37m\u001b[0m \u001b[1m6s\u001b[0m 13ms/step - accuracy: 0.9878 - loss: 0.0361 - val_accuracy: 0.9802 - val_loss: 0.0622\n",
      "Epoch 5/10\n",
      "\u001b[1m469/469\u001b[0m \u001b[32m━━━━━━━━━━━━━━━━━━━━\u001b[0m\u001b[37m\u001b[0m \u001b[1m6s\u001b[0m 12ms/step - accuracy: 0.9920 - loss: 0.0258 - val_accuracy: 0.9787 - val_loss: 0.0709\n",
      "Epoch 6/10\n",
      "\u001b[1m469/469\u001b[0m \u001b[32m━━━━━━━━━━━━━━━━━━━━\u001b[0m\u001b[37m\u001b[0m \u001b[1m6s\u001b[0m 13ms/step - accuracy: 0.9933 - loss: 0.0196 - val_accuracy: 0.9798 - val_loss: 0.0782\n",
      "Epoch 7/10\n",
      "\u001b[1m469/469\u001b[0m \u001b[32m━━━━━━━━━━━━━━━━━━━━\u001b[0m\u001b[37m\u001b[0m \u001b[1m6s\u001b[0m 12ms/step - accuracy: 0.9941 - loss: 0.0187 - val_accuracy: 0.9808 - val_loss: 0.0693\n",
      "Epoch 8/10\n",
      "\u001b[1m469/469\u001b[0m \u001b[32m━━━━━━━━━━━━━━━━━━━━\u001b[0m\u001b[37m\u001b[0m \u001b[1m6s\u001b[0m 12ms/step - accuracy: 0.9961 - loss: 0.0120 - val_accuracy: 0.9790 - val_loss: 0.0775\n",
      "Epoch 9/10\n",
      "\u001b[1m469/469\u001b[0m \u001b[32m━━━━━━━━━━━━━━━━━━━━\u001b[0m\u001b[37m\u001b[0m \u001b[1m6s\u001b[0m 13ms/step - accuracy: 0.9963 - loss: 0.0115 - val_accuracy: 0.9826 - val_loss: 0.0671\n",
      "Epoch 10/10\n",
      "\u001b[1m469/469\u001b[0m \u001b[32m━━━━━━━━━━━━━━━━━━━━\u001b[0m\u001b[37m\u001b[0m \u001b[1m6s\u001b[0m 12ms/step - accuracy: 0.9964 - loss: 0.0116 - val_accuracy: 0.9824 - val_loss: 0.0775\n"
     ]
    },
    {
     "data": {
      "text/plain": [
       "<keras.src.callbacks.history.History at 0x19b31f479e0>"
      ]
     },
     "execution_count": 7,
     "metadata": {},
     "output_type": "execute_result"
    }
   ],
   "source": [
    "# Compiling the model:\n",
    "# - Optimizer: 'adam' (adaptive learning rate for efficient training)\n",
    "# - Loss: 'categorical_crossentropy' (suitable for multi-class classification)\n",
    "# - Metric: 'accuracy' (measures correct predictions)\n",
    "\n",
    "# Training the model:\n",
    "# - Epochs: 10 (number of times the model sees the dataset)\n",
    "# - Batch size: 128 (updates weights after every 128 samples)\n",
    "# - Validation data: (x_test, y_test) (evaluates model performance on unseen data)\n",
    "\n",
    "model.compile(optimizer='adam', loss='categorical_crossentropy', metrics=['accuracy'])\n",
    "model.fit(x_train, y_train, epochs=10, batch_size=128, validation_data=(x_test, y_test))\n"
   ]
  },
  {
   "cell_type": "markdown",
   "id": "1956abd9",
   "metadata": {
    "id": "1956abd9"
   },
   "source": [
    "## Step 5: Evaluating Model Performance"
   ]
  },
  {
   "cell_type": "code",
   "execution_count": 9,
   "id": "04c61237",
   "metadata": {
    "id": "04c61237"
   },
   "outputs": [
    {
     "name": "stdout",
     "output_type": "stream",
     "text": [
      "\u001b[1m313/313\u001b[0m \u001b[32m━━━━━━━━━━━━━━━━━━━━\u001b[0m\u001b[37m\u001b[0m \u001b[1m2s\u001b[0m 5ms/step - accuracy: 0.9800 - loss: 0.0894\n",
      "Test Accuracy: 0.9824\n"
     ]
    }
   ],
   "source": [
    "loss, accuracy = model.evaluate(x_test, y_test) # Evaluate the model on the test data\n",
    "\n",
    "print(f\"Test Accuracy: {accuracy:.4f}\")  # Print the accuracy value with 4 decimal places\n",
    "\n"
   ]
  },
  {
   "cell_type": "markdown",
   "id": "922e9f48",
   "metadata": {
    "id": "922e9f48"
   },
   "source": [
    "## Step 6: Implementing the FGSM Attack\n",
    "We will use Fast Gradient Sign Method (FGSM) to create adversarial examples.\n"
   ]
  },
  {
   "cell_type": "code",
   "execution_count": 13,
   "id": "e0be0547",
   "metadata": {
    "id": "e0be0547"
   },
   "outputs": [],
   "source": [
    "# The function fgsm_attack generates adversarial examples using the Fast Gradient Sign Method (FGSM).\n",
    "# The FGSM method perturbs the input image in the direction of the gradient of the loss with respect to the image,\n",
    "# scaled by a small value called epsilon. This creates an adversarial example that can deceive the model.\n",
    "\n",
    "# Parameters:\n",
    "# - image: The original input image that we want to perturb.\n",
    "# - epsilon: A small scalar that controls the magnitude of the perturbation. A larger epsilon means a stronger perturbation.\n",
    "# - gradient: The gradient of the loss with respect to the image. This is typically computed during backpropagation.\n",
    "\n",
    "# The function performs the following:\n",
    "# 1. Calculates the perturbation using the sign of the gradient, scaled by epsilon.\n",
    "# 2. Adds this perturbation to the original image to generate the adversarial image.\n",
    "# 3. Clips the resulting image to ensure the pixel values stay within the valid range [0, 1].\n",
    "# 4. Returns the adversarial image and the perturbation used\n",
    "\n",
    "def fgsm_attack(image, epsilon, gradient):\n",
    "    perturbation = epsilon * np.sign(gradient)\n",
    "    adversarial_image = image + perturbation\n",
    "    adversarial_image = np.clip(adversarial_image, 0, 1)\n",
    "    return adversarial_image, perturbation\n"
   ]
  },
  {
   "cell_type": "markdown",
   "id": "66d1d0e9",
   "metadata": {
    "id": "66d1d0e9"
   },
   "source": [
    "## Step 7: Generating Adversarial Examples\n"
   ]
  },
  {
   "cell_type": "code",
   "execution_count": 15,
   "id": "fc848cfb",
   "metadata": {
    "id": "fc848cfb"
   },
   "outputs": [],
   "source": [
    "\n",
    "# This function creates adversarial examples using the Fast Gradient Sign Method (FGSM).\n",
    "# It calculates the gradient of the loss with respect to the input image and generates an adversarial version of the image\n",
    "# by applying a perturbation. The goal is to fool the model by slightly altering the input image in a way that misleads\n",
    "# the model into making incorrect predictions.\n",
    "\n",
    "# Parameters:\n",
    "# - model: The trained neural network model to evaluate on the adversarial examples.\n",
    "# - images: The original input images that will be perturbed to create adversarial examples.\n",
    "# - labels: The true labels corresponding to the images.\n",
    "# - epsilon: A small scalar that controls the strength of the perturbation (default is 0.1).\n",
    "\n",
    "# The function does the following:\n",
    "# 1. Converts the input images to a tensor, as TensorFlow models require tensor inputs.\n",
    "# 2. Uses a GradientTape to track operations on the image tensor and compute the loss.\n",
    "# 3. Computes the gradients of the loss with respect to the input images.\n",
    "# 4. Uses the fgsm_attack function to create adversarial examples by perturbing the input images based on the computed gradients.\n",
    "# 5. Returns the adversarial examples and the perturbations applied.\n",
    "\n",
    "import tensorflow as tf\n",
    "\n",
    "loss_object = tf.keras.losses.CategoricalCrossentropy()\n",
    "\n",
    "def create_adversarial_examples(model, images, labels, epsilon=0.1):\n",
    "    # Convert the images to a tensor for TensorFlow model compatibility\n",
    "    images_tensor = tf.convert_to_tensor(images)\n",
    "\n",
    "    # Track the gradients of the loss with respect to the input images\n",
    "    with tf.GradientTape() as tape:\n",
    "        tape.watch(images_tensor)  # Ensure the tape tracks the images tensor\n",
    "        predictions = model(images_tensor)  # Get the model's predictions for the images\n",
    "        loss = loss_object(labels, predictions)  # Compute the loss based on the true labels and model predictions\n",
    "\n",
    "    # Compute the gradients of the loss with respect to the input images\n",
    "    gradients = tape.gradient(loss, images_tensor)\n",
    "\n",
    "    # Generate adversarial examples by applying the perturbation based on the gradients\n",
    "    adversarial_examples, perturbations = fgsm_attack(images, epsilon, gradients.numpy())\n",
    "\n",
    "    # Return the adversarial examples and the perturbations\n",
    "    return adversarial_examples, perturbations\n"
   ]
  },
  {
   "cell_type": "markdown",
   "id": "3a0d9717",
   "metadata": {
    "id": "3a0d9717"
   },
   "source": [
    "## Step 8: Selecting Sample Images and Creating Adversarial Examples"
   ]
  },
  {
   "cell_type": "code",
   "execution_count": 17,
   "id": "59a2cd88",
   "metadata": {
    "id": "59a2cd88"
   },
   "outputs": [],
   "source": [
    "\n",
    "num_samples = 10  # Number of samples to select\n",
    "x_sample = x_test[:num_samples]  # Select first 10 test images\n",
    "y_sample = y_test[:num_samples]  # Select corresponding labels\n",
    "\n",
    "x_adversarial, noise = create_adversarial_examples(model, x_sample, y_sample, epsilon=0.2)  # Generate adversarial examples\n",
    "\n"
   ]
  },
  {
   "cell_type": "markdown",
   "id": "c5a5d4ef",
   "metadata": {
    "id": "c5a5d4ef"
   },
   "source": [
    "## Step 9: Making Predictions on Adversarial Examples"
   ]
  },
  {
   "cell_type": "code",
   "execution_count": 19,
   "id": "a232db3c",
   "metadata": {
    "id": "a232db3c"
   },
   "outputs": [
    {
     "name": "stdout",
     "output_type": "stream",
     "text": [
      "\u001b[1m1/1\u001b[0m \u001b[32m━━━━━━━━━━━━━━━━━━━━\u001b[0m\u001b[37m\u001b[0m \u001b[1m0s\u001b[0m 175ms/step\n",
      "\u001b[1m1/1\u001b[0m \u001b[32m━━━━━━━━━━━━━━━━━━━━\u001b[0m\u001b[37m\u001b[0m \u001b[1m0s\u001b[0m 78ms/step - accuracy: 0.1000 - loss: 12.6514\n",
      "Test Accuracy after FGSM attack: 0.1000\n"
     ]
    }
   ],
   "source": [
    "\n",
    "predictions = np.argmax(model.predict(x_adversarial), axis=1)  # Get model predictions for adversarial examples\n",
    "true_labels = np.argmax(y_sample, axis=1)  # Convert one-hot encoded labels to class indices\n",
    "\n",
    "loss_adv, accuracy_adv = model.evaluate(x_adversarial, y_sample)  # Evaluate model on adversarial examples\n",
    "print(f\"Test Accuracy after FGSM attack: {accuracy_adv:.4f}\")  # Print accuracy after adversarial attack\n"
   ]
  },
  {
   "cell_type": "markdown",
   "id": "7f5a7e22",
   "metadata": {
    "id": "7f5a7e22"
   },
   "source": [
    "## Step 10: Visualizing Original, Noise, and Adversarial Images Side by Side"
   ]
  },
  {
   "cell_type": "code",
   "execution_count": 21,
   "id": "e2b356bb",
   "metadata": {
    "id": "e2b356bb"
   },
   "outputs": [
    {
     "data": {
      "image/png": "[encoded data removed]",
      "text/plain": [
       "<Figure size 1500x500 with 30 Axes>"
      ]
     },
     "metadata": {},
     "output_type": "display_data"
    }
   ],
   "source": [
    "# Create a 3x10 grid of subplots to display images\n",
    "# Loop through each sample to display the original image, noise, and adversarial image\n",
    "\n",
    "fig, axes = plt.subplots(3, 10, figsize=(15, 5))\n",
    "\n",
    "for i in range(10):\n",
    "    # Original image\n",
    "    axes[0, i].imshow(x_sample[i].reshape(28, 28), cmap='gray')\n",
    "    axes[0, i].axis('off')\n",
    "    axes[0, i].set_title(f\"Orig: {true_labels[i]}\")\n",
    "\n",
    "    # Noise\n",
    "    axes[1, i].imshow(noise[i].reshape(28, 28), cmap='gray')\n",
    "    axes[1, i].axis('off')\n",
    "    axes[1, i].set_title(\"Noise\")\n",
    "\n",
    "    # Adversarial image\n",
    "    axes[2, i].imshow(x_adversarial[i].reshape(28, 28), cmap='gray')\n",
    "    axes[2, i].axis('off')\n",
    "    axes[2, i].set_title(f\"Adv: {predictions[i]}\")\n",
    "\n",
    "plt.show()\n"
   ]
  },
  {
   "cell_type": "markdown",
   "id": "355c3383",
   "metadata": {
    "id": "355c3383"
   },
   "source": [
    "## Step 11: Identifying Incorrect Predictions"
   ]
  },
  {
   "cell_type": "code",
   "execution_count": 23,
   "id": "25f6ffae",
   "metadata": {
    "colab": {
     "base_uri": "https://localhost:8080/"
    },
    "id": "25f6ffae",
    "outputId": "b918844e-ca09-473a-e732-196102b5e8fc"
   },
   "outputs": [
    {
     "name": "stdout",
     "output_type": "stream",
     "text": [
      "Incorrectly classified samples after FGSM attack:\n",
      "True Label: 7, Predicted: 9\n",
      "True Label: 1, Predicted: 8\n",
      "True Label: 0, Predicted: 2\n",
      "True Label: 4, Predicted: 9\n",
      "True Label: 1, Predicted: 8\n",
      "True Label: 4, Predicted: 9\n",
      "True Label: 9, Predicted: 8\n",
      "True Label: 5, Predicted: 2\n",
      "True Label: 9, Predicted: 4\n"
     ]
    }
   ],
   "source": [
    "\n",
    "# Find the indices of incorrectly classified samples after the FGSM attack\n",
    "# Print the true and predicted labels for incorrectly classified samples\n",
    "\n",
    "incorrect_indices = np.where(predictions != true_labels)[0]  # Get indices of misclassified samples\n",
    "print(\"Incorrectly classified samples after FGSM attack:\")  # Print message for misclassified samples\n",
    "\n",
    "# Loop through each misclassified sample and print its true and predicted labels\n",
    "for idx in incorrect_indices:\n",
    "    print(f\"True Label: {true_labels[idx]}, Predicted: {predictions[idx]}\")  # Display true vs predicted labels\n"
   ]
  },
  {
   "cell_type": "markdown",
   "id": "VMFc8eNpcLTZ",
   "metadata": {
    "id": "VMFc8eNpcLTZ"
   },
   "source": [
    "Based on the above code, perform the following:\n",
    "\n",
    "**Adversarial Example Generation**\n",
    "1. Use the create_adversarial_examples function to generate adversarial examples\n",
    "for the given dataset (x_test, y_test). You will need to experiment with various values of epsilon (e.g., 0.1, 0.2, 0.3, 0.5, 1.0).\n",
    "\n",
    "2. For each epsilon value, generate adversarial examples for a subset of x_test (you can choose 10 samples).\n",
    "\n",
    "3. For each epsilon, store the adversarial examples and perturbations (noise).\n",
    "\n",
    "**Model Evaluatation**\n",
    "1. Evaluate the model on the generated adversarial examples for each epsilon value.\n",
    "\n",
    "2. For each evaluation, compute the loss and accuracy.\n",
    "\n",
    "3. Print the accuracy of the model on adversarial examples for each epsilon value.\n",
    "\n",
    "4. Record how the accuracy decreases as epsilon increases (i.e., the strength of the perturbation).\n",
    "\n",
    "**Visualization**:\n",
    "\n",
    "For each epsilon value, plot the following:\n",
    "1. The original images from the selected test samples.\n",
    "\n",
    "2. The perturbation (noise) applied to each image to generate the adversarial examples.\n",
    "\n",
    "3. The adversarial examples themselves.\n",
    "\n",
    "Label the images accordingly (e.g., Original, Noise, and Adversarial).\n",
    "\n",
    "\n",
    "# Important: Put the following graph in your Lab-Logbook\n",
    "**Graphing the Results:**\n",
    "\n",
    "\n",
    "1. Plot a graph showing the model's accuracy for each epsilon value. The x-axis should represent the epsilon values, and the y-axis should represent the accuracy of the model on the adversarial examples.\n",
    "\n",
    "2. Discuss how the accuracy changes as the strength of the adversarial perturbation increases. What does this tell you about the model's robustness to adversarial attacks?"
   ]
  },
  {
   "cell_type": "code",
   "execution_count": 25,
   "id": "xHxNSjhNipwe",
   "metadata": {
    "id": "xHxNSjhNipwe"
   },
   "outputs": [
    {
     "name": "stdout",
     "output_type": "stream",
     "text": [
      "Epoch 1/10\n",
      "\u001b[1m469/469\u001b[0m \u001b[32m━━━━━━━━━━━━━━━━━━━━\u001b[0m\u001b[37m\u001b[0m \u001b[1m13s\u001b[0m 15ms/step - accuracy: 0.8769 - loss: 0.4197 - val_accuracy: 0.9672 - val_loss: 0.1081\n",
      "Epoch 2/10\n",
      "\u001b[1m469/469\u001b[0m \u001b[32m━━━━━━━━━━━━━━━━━━━━\u001b[0m\u001b[37m\u001b[0m \u001b[1m6s\u001b[0m 12ms/step - accuracy: 0.9736 - loss: 0.0852 - val_accuracy: 0.9759 - val_loss: 0.0769\n",
      "Epoch 3/10\n",
      "\u001b[1m469/469\u001b[0m \u001b[32m━━━━━━━━━━━━━━━━━━━━\u001b[0m\u001b[37m\u001b[0m \u001b[1m6s\u001b[0m 12ms/step - accuracy: 0.9836 - loss: 0.0511 - val_accuracy: 0.9746 - val_loss: 0.0814\n",
      "Epoch 4/10\n",
      "\u001b[1m469/469\u001b[0m \u001b[32m━━━━━━━━━━━━━━━━━━━━\u001b[0m\u001b[37m\u001b[0m \u001b[1m6s\u001b[0m 13ms/step - accuracy: 0.9898 - loss: 0.0327 - val_accuracy: 0.9780 - val_loss: 0.0742\n",
      "Epoch 5/10\n",
      "\u001b[1m469/469\u001b[0m \u001b[32m━━━━━━━━━━━━━━━━━━━━\u001b[0m\u001b[37m\u001b[0m \u001b[1m6s\u001b[0m 12ms/step - accuracy: 0.9903 - loss: 0.0291 - val_accuracy: 0.9750 - val_loss: 0.0866\n",
      "Epoch 6/10\n",
      "\u001b[1m469/469\u001b[0m \u001b[32m━━━━━━━━━━━━━━━━━━━━\u001b[0m\u001b[37m\u001b[0m \u001b[1m11s\u001b[0m 13ms/step - accuracy: 0.9933 - loss: 0.0200 - val_accuracy: 0.9804 - val_loss: 0.0682\n",
      "Epoch 7/10\n",
      "\u001b[1m469/469\u001b[0m \u001b[32m━━━━━━━━━━━━━━━━━━━━\u001b[0m\u001b[37m\u001b[0m \u001b[1m6s\u001b[0m 12ms/step - accuracy: 0.9957 - loss: 0.0145 - val_accuracy: 0.9819 - val_loss: 0.0672\n",
      "Epoch 8/10\n",
      "\u001b[1m469/469\u001b[0m \u001b[32m━━━━━━━━━━━━━━━━━━━━\u001b[0m\u001b[37m\u001b[0m \u001b[1m6s\u001b[0m 12ms/step - accuracy: 0.9950 - loss: 0.0148 - val_accuracy: 0.9795 - val_loss: 0.0798\n",
      "Epoch 9/10\n",
      "\u001b[1m469/469\u001b[0m \u001b[32m━━━━━━━━━━━━━━━━━━━━\u001b[0m\u001b[37m\u001b[0m \u001b[1m6s\u001b[0m 13ms/step - accuracy: 0.9960 - loss: 0.0132 - val_accuracy: 0.9786 - val_loss: 0.0811\n",
      "Epoch 10/10\n",
      "\u001b[1m469/469\u001b[0m \u001b[32m━━━━━━━━━━━━━━━━━━━━\u001b[0m\u001b[37m\u001b[0m \u001b[1m6s\u001b[0m 12ms/step - accuracy: 0.9961 - loss: 0.0122 - val_accuracy: 0.9813 - val_loss: 0.0768\n",
      "Epsilon: 0.00, Accuracy: 0.9813\n",
      "Epsilon: 0.05, Accuracy: 0.6689\n",
      "Epsilon: 0.10, Accuracy: 0.3150\n",
      "Epsilon: 0.15, Accuracy: 0.1678\n",
      "Epsilon: 0.20, Accuracy: 0.0940\n",
      "Epsilon: 0.25, Accuracy: 0.0546\n",
      "Epsilon: 0.30, Accuracy: 0.0382\n"
     ]
    },
    {
     "data": {
      "image/png": "[encoded data removed]",
      "text/plain": [
       "<Figure size 800x500 with 1 Axes>"
      ]
     },
     "metadata": {},
     "output_type": "display_data"
    }
   ],
   "source": [
    "import tensorflow as tf\n",
    "from tensorflow import keras\n",
    "from tensorflow.keras import layers\n",
    "import numpy as np\n",
    "import matplotlib.pyplot as plt\n",
    "\n",
    "# Load and preprocess the MNIST dataset\n",
    "(x_train, y_train), (x_test, y_test) = keras.datasets.mnist.load_data()\n",
    "x_train, x_test = x_train / 255.0, x_test / 255.0  # Normalize pixel values\n",
    "x_train = x_train.reshape(-1, 28*28)  # Flatten images\n",
    "x_test = x_test.reshape(-1, 28*28)\n",
    "\n",
    "# Convert labels to one-hot encoding\n",
    "y_train = keras.utils.to_categorical(y_train, 10)\n",
    "y_test = keras.utils.to_categorical(y_test, 10)\n",
    "\n",
    "# Define a simple neural network model\n",
    "model = keras.Sequential([\n",
    "    layers.Dense(512, activation='relu', input_shape=(28*28,)),\n",
    "    layers.Dense(256, activation='relu'),\n",
    "    layers.Dense(10, activation='softmax')\n",
    "])\n",
    "\n",
    "# Compile and train the model\n",
    "model.compile(optimizer='adam', loss='categorical_crossentropy', metrics=['accuracy'])\n",
    "model.fit(x_train, y_train, epochs=10, batch_size=128, validation_data=(x_test, y_test))\n",
    "\n",
    "# Function to generate adversarial examples using FGSM\n",
    "def fgsm_attack(image, epsilon, gradient):\n",
    "    perturbation = epsilon * np.sign(gradient)\n",
    "    adversarial_image = image + perturbation\n",
    "    adversarial_image = np.clip(adversarial_image, 0, 1)  # Ensure valid pixel range\n",
    "    return adversarial_image\n",
    "\n",
    "# Function to create adversarial examples\n",
    "loss_object = tf.keras.losses.CategoricalCrossentropy()\n",
    "\n",
    "def create_adversarial_examples(model, images, labels, epsilon):\n",
    "    images_tensor = tf.convert_to_tensor(images)\n",
    "    \n",
    "    with tf.GradientTape() as tape:\n",
    "        tape.watch(images_tensor)\n",
    "        predictions = model(images_tensor)\n",
    "        loss = loss_object(labels, predictions)\n",
    "    \n",
    "    gradients = tape.gradient(loss, images_tensor)\n",
    "    adversarial_examples = fgsm_attack(images, epsilon, gradients.numpy())\n",
    "    \n",
    "    return adversarial_examples\n",
    "\n",
    "# Evaluate model accuracy on different epsilon values\n",
    "epsilon_values = [0.0, 0.05, 0.1, 0.15, 0.2, 0.25, 0.3]\n",
    "accuracy_values = []\n",
    "\n",
    "for epsilon in epsilon_values:\n",
    "    x_adversarial = create_adversarial_examples(model, x_test, y_test, epsilon)\n",
    "    _, accuracy_adv = model.evaluate(x_adversarial, y_test, verbose=0)\n",
    "    accuracy_values.append(accuracy_adv)\n",
    "    print(f\"Epsilon: {epsilon:.2f}, Accuracy: {accuracy_adv:.4f}\")\n",
    "\n",
    "# Plot the model's accuracy vs. epsilon values\n",
    "plt.figure(figsize=(8, 5))\n",
    "plt.plot(epsilon_values, accuracy_values, marker='o', linestyle='-', color='b', label=\"Model Accuracy\")\n",
    "\n",
    "plt.xlabel(\"Epsilon Value\")\n",
    "plt.ylabel(\"Model Accuracy on Adversarial Examples\")\n",
    "plt.title(\"Model Accuracy vs. Epsilon\")\n",
    "plt.ylim(0, 1)  # Accuracy ranges from 0 to 1\n",
    "plt.grid(True)\n",
    "plt.legend()\n",
    "plt.show()\n"
   ]
  },
  {
   "cell_type": "code",
   "execution_count": null,
   "id": "fd7ce904-7593-4f0a-b94d-3ab7e3aa7f57",
   "metadata": {},
   "outputs": [],
   "source": [
    "#Answer for 2nd question\n",
    "When epsilon is small (e.g., 0.0 to 0.05):\n",
    "\n",
    "The model maintains high accuracy (close to its original performance on clean images).\n",
    "Small perturbations do not significantly affect the model’s predictions.\n",
    "As epsilon increases (e.g., 0.1 to 0.2):\n",
    "\n",
    "Accuracy drops significantly as the adversarial perturbations become stronger.\n",
    "The model starts misclassifying more images, indicating its vulnerability to adversarial noise.\n",
    "For large epsilon values (e.g., 0.25 to 0.3):\n",
    "\n",
    "Accuracy plummets, often close to random guessing (e.g., ~10% for a 10-class problem).\n",
    "This suggests that the adversarial perturbations have completely fooled the model.\n",
    "\n",
    "\n",
    "#Model Robustness\n",
    "1.The model is highly sensitive to small perturbations\n",
    "\n",
    "Even tiny, imperceptible changes to input images can degrade accuracy.\n",
    "This suggests the model relies on fragile patterns rather than truly understanding the features of digits.\n",
    "    \n",
    "2.Lack of robustness against adversarial attacks\n",
    "\n",
    "The rapid decline in accuracy as epsilon increases shows that the model is not resistant to adversarial attacks.\n",
    "This is a common issue with deep learning models, especially those trained on clean datasets without adversarial training.\n",
    "\n"
   ]
  },
  {
   "cell_type": "markdown",
   "id": "2VeROyBBexUs",
   "metadata": {
    "id": "2VeROyBBexUs"
   },
   "source": [
    "In the next assignment, you will perform training data poisoning. Remember, x_train and y_train contain the training data. Your task is to poison the training data in a way that impacts the model's performance.\n",
    "\n",
    "You will alter the labels in y_train by assigning incorrect labels to affect the model's accuracy. For example, you can set all values in y_train to a single label, chosen from 1 to 10. Alternatively, you can flip labels, such as setting label 2 to 1, and label 3 to 2, to degrade the model’s performance.\n",
    "\n",
    "Feel free to perform any label manipulation of your choice in the training data, and observe the impact on the model’s accuracy.\n",
    "\n",
    "# Important: In your lab logbook, provide the following:\n",
    "\n",
    "The model accuracy before data poisoning.\n",
    "The model accuracy after data poisoning."
   ]
  },
  {
   "cell_type": "code",
   "execution_count": 27,
   "id": "eWPVkN9Iir5v",
   "metadata": {
    "id": "eWPVkN9Iir5v"
   },
   "outputs": [
    {
     "name": "stdout",
     "output_type": "stream",
     "text": [
      "Epoch 1/10\n",
      "\u001b[1m469/469\u001b[0m \u001b[32m━━━━━━━━━━━━━━━━━━━━\u001b[0m\u001b[37m\u001b[0m \u001b[1m11s\u001b[0m 15ms/step - accuracy: 0.8850 - loss: 0.4108 - val_accuracy: 0.9679 - val_loss: 0.1023\n",
      "Epoch 2/10\n",
      "\u001b[1m469/469\u001b[0m \u001b[32m━━━━━━━━━━━━━━━━━━━━\u001b[0m\u001b[37m\u001b[0m \u001b[1m6s\u001b[0m 12ms/step - accuracy: 0.9728 - loss: 0.0912 - val_accuracy: 0.9723 - val_loss: 0.0864\n",
      "Epoch 3/10\n",
      "\u001b[1m469/469\u001b[0m \u001b[32m━━━━━━━━━━━━━━━━━━━━\u001b[0m\u001b[37m\u001b[0m \u001b[1m6s\u001b[0m 13ms/step - accuracy: 0.9837 - loss: 0.0528 - val_accuracy: 0.9762 - val_loss: 0.0760\n",
      "Epoch 4/10\n",
      "\u001b[1m469/469\u001b[0m \u001b[32m━━━━━━━━━━━━━━━━━━━━\u001b[0m\u001b[37m\u001b[0m \u001b[1m6s\u001b[0m 12ms/step - accuracy: 0.9889 - loss: 0.0345 - val_accuracy: 0.9784 - val_loss: 0.0705\n",
      "Epoch 5/10\n",
      "\u001b[1m469/469\u001b[0m \u001b[32m━━━━━━━━━━━━━━━━━━━━\u001b[0m\u001b[37m\u001b[0m \u001b[1m6s\u001b[0m 12ms/step - accuracy: 0.9927 - loss: 0.0246 - val_accuracy: 0.9809 - val_loss: 0.0662\n",
      "Epoch 6/10\n",
      "\u001b[1m469/469\u001b[0m \u001b[32m━━━━━━━━━━━━━━━━━━━━\u001b[0m\u001b[37m\u001b[0m \u001b[1m6s\u001b[0m 13ms/step - accuracy: 0.9941 - loss: 0.0180 - val_accuracy: 0.9803 - val_loss: 0.0697\n",
      "Epoch 7/10\n",
      "\u001b[1m469/469\u001b[0m \u001b[32m━━━━━━━━━━━━━━━━━━━━\u001b[0m\u001b[37m\u001b[0m \u001b[1m6s\u001b[0m 12ms/step - accuracy: 0.9943 - loss: 0.0166 - val_accuracy: 0.9800 - val_loss: 0.0701\n",
      "Epoch 8/10\n",
      "\u001b[1m469/469\u001b[0m \u001b[32m━━━━━━━━━━━━━━━━━━━━\u001b[0m\u001b[37m\u001b[0m \u001b[1m6s\u001b[0m 12ms/step - accuracy: 0.9951 - loss: 0.0152 - val_accuracy: 0.9791 - val_loss: 0.0807\n",
      "Epoch 9/10\n",
      "\u001b[1m469/469\u001b[0m \u001b[32m━━━━━━━━━━━━━━━━━━━━\u001b[0m\u001b[37m\u001b[0m \u001b[1m6s\u001b[0m 13ms/step - accuracy: 0.9956 - loss: 0.0132 - val_accuracy: 0.9822 - val_loss: 0.0687\n",
      "Epoch 10/10\n",
      "\u001b[1m469/469\u001b[0m \u001b[32m━━━━━━━━━━━━━━━━━━━━\u001b[0m\u001b[37m\u001b[0m \u001b[1m6s\u001b[0m 12ms/step - accuracy: 0.9967 - loss: 0.0107 - val_accuracy: 0.9774 - val_loss: 0.0838\n",
      "\u001b[1m313/313\u001b[0m \u001b[32m━━━━━━━━━━━━━━━━━━━━\u001b[0m\u001b[37m\u001b[0m \u001b[1m2s\u001b[0m 5ms/step - accuracy: 0.9718 - loss: 0.1060\n",
      "Accuracy before data poisoning: 0.9774\n",
      "Epoch 1/10\n",
      "\u001b[1m469/469\u001b[0m \u001b[32m━━━━━━━━━━━━━━━━━━━━\u001b[0m\u001b[37m\u001b[0m \u001b[1m12s\u001b[0m 18ms/step - accuracy: 0.0306 - loss: 3053.6431 - val_accuracy: 0.0958 - val_loss: 1562.2462\n",
      "Epoch 2/10\n",
      "\u001b[1m469/469\u001b[0m \u001b[32m━━━━━━━━━━━━━━━━━━━━\u001b[0m\u001b[37m\u001b[0m \u001b[1m6s\u001b[0m 13ms/step - accuracy: 0.0978 - loss: 31892.6016 - val_accuracy: 0.1032 - val_loss: 6281.3696\n",
      "Epoch 3/10\n",
      "\u001b[1m469/469\u001b[0m \u001b[32m━━━━━━━━━━━━━━━━━━━━\u001b[0m\u001b[37m\u001b[0m \u001b[1m6s\u001b[0m 12ms/step - accuracy: 0.0965 - loss: 96214.7656 - val_accuracy: 0.0982 - val_loss: 15288.2109\n",
      "Epoch 4/10\n",
      "\u001b[1m469/469\u001b[0m \u001b[32m━━━━━━━━━━━━━━━━━━━━\u001b[0m\u001b[37m\u001b[0m \u001b[1m6s\u001b[0m 12ms/step - accuracy: 0.0948 - loss: 196302.4375 - val_accuracy: 0.0892 - val_loss: 36935.6484\n",
      "Epoch 5/10\n",
      "\u001b[1m469/469\u001b[0m \u001b[32m━━━━━━━━━━━━━━━━━━━━\u001b[0m\u001b[37m\u001b[0m \u001b[1m6s\u001b[0m 13ms/step - accuracy: 0.1024 - loss: 275812.8438 - val_accuracy: 0.0982 - val_loss: 32911.7773\n",
      "Epoch 6/10\n",
      "\u001b[1m469/469\u001b[0m \u001b[32m━━━━━━━━━━━━━━━━━━━━\u001b[0m\u001b[37m\u001b[0m \u001b[1m6s\u001b[0m 12ms/step - accuracy: 0.1036 - loss: 329631.7188 - val_accuracy: 0.1028 - val_loss: 66399.3828\n",
      "Epoch 7/10\n",
      "\u001b[1m469/469\u001b[0m \u001b[32m━━━━━━━━━━━━━━━━━━━━\u001b[0m\u001b[37m\u001b[0m \u001b[1m6s\u001b[0m 12ms/step - accuracy: 0.0985 - loss: 514444.5625 - val_accuracy: 0.1135 - val_loss: 63189.6328\n",
      "Epoch 8/10\n",
      "\u001b[1m469/469\u001b[0m \u001b[32m━━━━━━━━━━━━━━━━━━━━\u001b[0m\u001b[37m\u001b[0m \u001b[1m6s\u001b[0m 13ms/step - accuracy: 0.1022 - loss: 660068.0000 - val_accuracy: 0.0892 - val_loss: 105746.8359\n",
      "Epoch 9/10\n",
      "\u001b[1m469/469\u001b[0m \u001b[32m━━━━━━━━━━━━━━━━━━━━\u001b[0m\u001b[37m\u001b[0m \u001b[1m6s\u001b[0m 12ms/step - accuracy: 0.0932 - loss: 838769.1250 - val_accuracy: 0.0982 - val_loss: 83069.2891\n",
      "Epoch 10/10\n",
      "\u001b[1m469/469\u001b[0m \u001b[32m━━━━━━━━━━━━━━━━━━━━\u001b[0m\u001b[37m\u001b[0m \u001b[1m6s\u001b[0m 12ms/step - accuracy: 0.0957 - loss: 839347.5625 - val_accuracy: 0.1027 - val_loss: 63523.2773\n",
      "\u001b[1m313/313\u001b[0m \u001b[32m━━━━━━━━━━━━━━━━━━━━\u001b[0m\u001b[37m\u001b[0m \u001b[1m2s\u001b[0m 5ms/step - accuracy: 0.1042 - loss: 59057.2773\n",
      "Accuracy after data poisoning: 0.1027\n"
     ]
    }
   ],
   "source": [
    "import tensorflow as tf\n",
    "from tensorflow import keras\n",
    "from tensorflow.keras import layers\n",
    "import numpy as np\n",
    "\n",
    "# Load and preprocess the MNIST dataset\n",
    "(x_train, y_train), (x_test, y_test) = keras.datasets.mnist.load_data()\n",
    "x_train, x_test = x_train / 255.0, x_test / 255.0  # Normalize pixel values\n",
    "x_train = x_train.reshape(-1, 28*28)  # Flatten images\n",
    "x_test = x_test.reshape(-1, 28*28)\n",
    "\n",
    "# Convert labels to one-hot encoding\n",
    "y_train = keras.utils.to_categorical(y_train, 10)\n",
    "y_test = keras.utils.to_categorical(y_test, 10)\n",
    "\n",
    "# Train the model on clean data\n",
    "model = keras.Sequential([\n",
    "    layers.Dense(512, activation='relu', input_shape=(28*28,)),\n",
    "    layers.Dense(256, activation='relu'),\n",
    "    layers.Dense(10, activation='softmax')\n",
    "])\n",
    "\n",
    "model.compile(optimizer='adam', loss='categorical_crossentropy', metrics=['accuracy'])\n",
    "model.fit(x_train, y_train, epochs=10, batch_size=128, validation_data=(x_test, y_test))\n",
    "\n",
    "# Evaluate the model before data poisoning\n",
    "loss, accuracy_before = model.evaluate(x_test, y_test)\n",
    "print(f\"Accuracy before data poisoning: {accuracy_before:.4f}\")\n",
    "\n",
    "# **Perform Data Poisoning**\n",
    "y_train[:] = 1  # Set all labels to class '1'\n",
    "\n",
    "# Train the model again with poisoned data\n",
    "poisoned_model = keras.Sequential([\n",
    "    layers.Dense(512, activation='relu', input_shape=(28*28,)),\n",
    "    layers.Dense(256, activation='relu'),\n",
    "    layers.Dense(10, activation='softmax')\n",
    "])\n",
    "\n",
    "poisoned_model.compile(optimizer='adam', loss='categorical_crossentropy', metrics=['accuracy'])\n",
    "poisoned_model.fit(x_train, y_train, epochs=10, batch_size=128, validation_data=(x_test, y_test))\n",
    "\n",
    "# Evaluate the model after data poisoning\n",
    "loss, accuracy_after = poisoned_model.evaluate(x_test, y_test)\n",
    "print(f\"Accuracy after data poisoning: {accuracy_after:.4f}\")\n"
   ]
  },
  {
   "cell_type": "markdown",
   "id": "kTEPdk5Mjdru",
   "metadata": {
    "id": "kTEPdk5Mjdru"
   },
   "source": [
    "**Optional Part**\n",
    "\n",
    "In this task, similar to the FGSM attack, you will implement a PGD (Projected Gradient Descent) attack on the AI model. The PGD attack is an iterative adversarial attack that refines the adversarial perturbation step-by-step to create stronger adversarial examples.\n",
    "\n",
    "You can use the following libraries to implement the PGD attack. Make sure to experiment with different values of the attack parameters (e.g., number of iterations, step size, and epsilon) to observe how the attack affects the model’s performance.\n",
    "\n",
    "\n",
    "\n",
    "https://github.com/Trusted-AI/adversarial-robustness-toolbox"
   ]
  },
  {
   "cell_type": "code",
   "execution_count": 31,
   "id": "2491c5c9-dca9-4413-8a7a-99e20eab689f",
   "metadata": {},
   "outputs": [
    {
     "name": "stdout",
     "output_type": "stream",
     "text": [
      "Epoch 1/10\n",
      "\u001b[1m469/469\u001b[0m \u001b[32m━━━━━━━━━━━━━━━━━━━━\u001b[0m\u001b[37m\u001b[0m \u001b[1m12s\u001b[0m 14ms/step - accuracy: 0.8860 - loss: 0.4061 - val_accuracy: 0.9679 - val_loss: 0.1023\n",
      "Epoch 2/10\n",
      "\u001b[1m469/469\u001b[0m \u001b[32m━━━━━━━━━━━━━━━━━━━━\u001b[0m\u001b[37m\u001b[0m \u001b[1m6s\u001b[0m 12ms/step - accuracy: 0.9744 - loss: 0.0841 - val_accuracy: 0.9758 - val_loss: 0.0732\n",
      "Epoch 3/10\n",
      "\u001b[1m469/469\u001b[0m \u001b[32m━━━━━━━━━━━━━━━━━━━━\u001b[0m\u001b[37m\u001b[0m \u001b[1m6s\u001b[0m 13ms/step - accuracy: 0.9850 - loss: 0.0507 - val_accuracy: 0.9775 - val_loss: 0.0707\n",
      "Epoch 4/10\n",
      "\u001b[1m469/469\u001b[0m \u001b[32m━━━━━━━━━━━━━━━━━━━━\u001b[0m\u001b[37m\u001b[0m \u001b[1m6s\u001b[0m 12ms/step - accuracy: 0.9888 - loss: 0.0357 - val_accuracy: 0.9757 - val_loss: 0.0788\n",
      "Epoch 5/10\n",
      "\u001b[1m469/469\u001b[0m \u001b[32m━━━━━━━━━━━━━━━━━━━━\u001b[0m\u001b[37m\u001b[0m \u001b[1m6s\u001b[0m 12ms/step - accuracy: 0.9923 - loss: 0.0241 - val_accuracy: 0.9769 - val_loss: 0.0786\n",
      "Epoch 6/10\n",
      "\u001b[1m469/469\u001b[0m \u001b[32m━━━━━━━━━━━━━━━━━━━━\u001b[0m\u001b[37m\u001b[0m \u001b[1m6s\u001b[0m 13ms/step - accuracy: 0.9936 - loss: 0.0207 - val_accuracy: 0.9818 - val_loss: 0.0601\n",
      "Epoch 7/10\n",
      "\u001b[1m469/469\u001b[0m \u001b[32m━━━━━━━━━━━━━━━━━━━━\u001b[0m\u001b[37m\u001b[0m \u001b[1m6s\u001b[0m 12ms/step - accuracy: 0.9956 - loss: 0.0134 - val_accuracy: 0.9812 - val_loss: 0.0703\n",
      "Epoch 8/10\n",
      "\u001b[1m469/469\u001b[0m \u001b[32m━━━━━━━━━━━━━━━━━━━━\u001b[0m\u001b[37m\u001b[0m \u001b[1m6s\u001b[0m 12ms/step - accuracy: 0.9947 - loss: 0.0161 - val_accuracy: 0.9782 - val_loss: 0.0943\n",
      "Epoch 9/10\n",
      "\u001b[1m469/469\u001b[0m \u001b[32m━━━━━━━━━━━━━━━━━━━━\u001b[0m\u001b[37m\u001b[0m \u001b[1m6s\u001b[0m 13ms/step - accuracy: 0.9959 - loss: 0.0120 - val_accuracy: 0.9795 - val_loss: 0.0792\n",
      "Epoch 10/10\n",
      "\u001b[1m469/469\u001b[0m \u001b[32m━━━━━━━━━━━━━━━━━━━━\u001b[0m\u001b[37m\u001b[0m \u001b[1m6s\u001b[0m 12ms/step - accuracy: 0.9967 - loss: 0.0107 - val_accuracy: 0.9765 - val_loss: 0.0919\n",
      "\u001b[1m313/313\u001b[0m \u001b[32m━━━━━━━━━━━━━━━━━━━━\u001b[0m\u001b[37m\u001b[0m \u001b[1m2s\u001b[0m 5ms/step - accuracy: 0.9721 - loss: 0.1041\n",
      "Accuracy before PGD attack: 0.9765\n",
      "\u001b[1m4/4\u001b[0m \u001b[32m━━━━━━━━━━━━━━━━━━━━\u001b[0m\u001b[37m\u001b[0m \u001b[1m0s\u001b[0m 11ms/step - accuracy: 0.0000e+00 - loss: 46.5605\n",
      "Accuracy after PGD attack: 0.0000\n"
     ]
    },
    {
     "data": {
      "image/png": "[encoded data removed]",
      "text/plain": [
       "<Figure size 1000x300 with 5 Axes>"
      ]
     },
     "metadata": {},
     "output_type": "display_data"
    }
   ],
   "source": [
    "import tensorflow as tf\n",
    "import numpy as np\n",
    "import matplotlib.pyplot as plt\n",
    "from tensorflow import keras\n",
    "from tensorflow.keras import layers\n",
    "\n",
    "# Load and preprocess MNIST dataset\n",
    "(x_train, y_train), (x_test, y_test) = keras.datasets.mnist.load_data()\n",
    "x_train, x_test = x_train / 255.0, x_test / 255.0  # Normalize images\n",
    "x_train = x_train.reshape(-1, 28*28)  # Flatten images\n",
    "x_test = x_test.reshape(-1, 28*28)\n",
    "\n",
    "# Convert labels to one-hot encoding\n",
    "y_train = keras.utils.to_categorical(y_train, 10)\n",
    "y_test = keras.utils.to_categorical(y_test, 10)\n",
    "\n",
    "# Define your previous model\n",
    "model = keras.Sequential([\n",
    "    layers.Dense(512, activation='relu', input_shape=(28*28,)),\n",
    "    layers.Dense(256, activation='relu'),\n",
    "    layers.Dense(10, activation='softmax')\n",
    "])\n",
    "\n",
    "# Compile and train the model on clean data\n",
    "model.compile(optimizer='adam', loss='categorical_crossentropy', metrics=['accuracy'])\n",
    "model.fit(x_train, y_train, epochs=10, batch_size=128, validation_data=(x_test, y_test))\n",
    "\n",
    "# Evaluate the model before adversarial attack\n",
    "loss, accuracy_before = model.evaluate(x_test, y_test)\n",
    "print(f\"Accuracy before PGD attack: {accuracy_before:.4f}\")\n",
    "\n",
    "# **PGD Attack Function**\n",
    "def pgd_attack(model, images, labels, epsilon=0.3, alpha=0.01, iterations=40):\n",
    "    \"\"\"\n",
    "    Perform a Projected Gradient Descent (PGD) attack.\n",
    "    \n",
    "    Parameters:\n",
    "    - model: The trained neural network\n",
    "    - images: Input images to attack\n",
    "    - labels: True labels corresponding to the images\n",
    "    - epsilon: Maximum allowed perturbation\n",
    "    - alpha: Step size for each iteration\n",
    "    - iterations: Number of attack steps\n",
    "    \n",
    "    Returns:\n",
    "    - adversarial_examples: The generated adversarial images\n",
    "    \"\"\"\n",
    "    adv_images = tf.identity(images)  # Start with clean images\n",
    "    loss_object = tf.keras.losses.CategoricalCrossentropy()\n",
    "\n",
    "    for i in range(iterations):\n",
    "        with tf.GradientTape() as tape:\n",
    "            tape.watch(adv_images)\n",
    "            predictions = model(adv_images)\n",
    "            loss = loss_object(labels, predictions)\n",
    "\n",
    "        # Compute gradients of the loss w.r.t. input images\n",
    "        gradients = tape.gradient(loss, adv_images)\n",
    "        \n",
    "        # Compute adversarial perturbation (FGSM step)\n",
    "        perturbation = alpha * tf.sign(gradients)\n",
    "        \n",
    "        # Apply perturbation and project back to allowed range\n",
    "        adv_images = adv_images + perturbation\n",
    "        adv_images = tf.clip_by_value(adv_images, images - epsilon, images + epsilon)  # Projection step\n",
    "        adv_images = tf.clip_by_value(adv_images, 0, 1)  # Ensure pixel values stay valid\n",
    "\n",
    "    return adv_images\n",
    "\n",
    "# Select a subset of test images for attack\n",
    "num_samples = 100\n",
    "x_sample = x_test[:num_samples]\n",
    "y_sample = y_test[:num_samples]\n",
    "\n",
    "# Generate PGD adversarial examples\n",
    "x_adversarial = pgd_attack(model, x_sample, y_sample, epsilon=0.3, alpha=0.01, iterations=40)\n",
    "\n",
    "# Evaluate the model after the PGD attack\n",
    "loss_adv, accuracy_adv = model.evaluate(x_adversarial, y_sample)\n",
    "print(f\"Accuracy after PGD attack: {accuracy_adv:.4f}\")\n",
    "\n",
    "# **Plot a few adversarial examples**\n",
    "plt.figure(figsize=(10, 3))\n",
    "for i in range(5):\n",
    "    plt.subplot(1, 5, i+1)\n",
    "    plt.imshow(x_adversarial[i].numpy().reshape(28, 28), cmap='gray')\n",
    "    plt.axis('off')\n",
    "plt.suptitle(\"PGD Adversarial Examples\")\n",
    "plt.show()\n"
   ]
  }
 ],
 "metadata": {
  "colab": {
   "provenance": []
  },
  "kernelspec": {
   "display_name": "Python 3 (ipykernel)",
   "language": "python",
   "name": "python3"
  },
  "language_info": {
   "codemirror_mode": {
    "name": "ipython",
    "version": 3
   },
   "file_extension": ".py",
   "mimetype": "text/x-python",
   "name": "python",
   "nbconvert_exporter": "python",
   "pygments_lexer": "ipython3",
   "version": "3.12.4"
  }
 },
 "nbformat": 4,
 "nbformat_minor": 5
}
