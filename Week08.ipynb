{
 "cells": [
  {
   "cell_type": "code",
   "execution_count": 1,
   "id": "4e4c9754-46ab-4386-83ea-c0505cc39454",
   "metadata": {},
   "outputs": [
    {
     "name": "stdout",
     "output_type": "stream",
     "text": [
      "Public Key: (17, 3233)\n",
      "Private Key: (2753, 3233)\n"
     ]
    }
   ],
   "source": [
    "#Key Generation (Manual Calculation & Code)\n",
    "\n",
    "from Crypto.Util.number import getPrime, inverse\n",
    "\n",
    "# Step 1: Choose two small prime numbers\n",
    "p = 61\n",
    "q = 53\n",
    "\n",
    "# Step 2: Compute n\n",
    "n = p * q\n",
    "\n",
    "# Step 3: Compute Euler's totient function ϕ(n)\n",
    "phi_n = (p - 1) * (q - 1)\n",
    "\n",
    "# Step 4: Choose a small public exponent e\n",
    "e = 17  # Common choice for RSA\n",
    "\n",
    "# Step 5: Compute the private key d\n",
    "d = inverse(e, phi_n)  # Modular inverse of e mod φ(n)\n",
    "\n",
    "# Step 6: Public and Private Keys\n",
    "public_key = (e, n)\n",
    "private_key = (d, n)\n",
    "\n",
    "print(f\"Public Key: {public_key}\")\n",
    "print(f\"Private Key: {private_key}\")\n"
   ]
  },
  {
   "cell_type": "code",
   "execution_count": 2,
   "id": "ad8b90b1-5d40-4ef5-82c6-5b95bcf16357",
   "metadata": {},
   "outputs": [
    {
     "name": "stdout",
     "output_type": "stream",
     "text": [
      "Encrypted Message (Ciphertext): 3086\n"
     ]
    }
   ],
   "source": [
    "#Encrypt a Message\n",
    "\n",
    "# Step 1: Convert message (M) into numerical form\n",
    "M = 5  # Example message\n",
    "\n",
    "# Step 2: Encrypt the message\n",
    "C = pow(M, e, n)  # C = M^e mod n\n",
    "\n",
    "print(f\"Encrypted Message (Ciphertext): {C}\")\n"
   ]
  },
  {
   "cell_type": "code",
   "execution_count": 3,
   "id": "aa67674c-4591-4b33-9ae3-5b55e4dc4427",
   "metadata": {},
   "outputs": [
    {
     "name": "stdout",
     "output_type": "stream",
     "text": [
      "Decrypted Message: 5\n"
     ]
    }
   ],
   "source": [
    "#Decrypt the Message\n",
    "\n",
    "# Step 1: Decrypt the message\n",
    "M_decrypted = pow(C, d, n)  # M = C^d mod n\n",
    "\n",
    "print(f\"Decrypted Message: {M_decrypted}\")\n"
   ]
  },
  {
   "cell_type": "code",
   "execution_count": 33,
   "id": "5023c64a-262c-4aab-80b7-96ea13198acc",
   "metadata": {},
   "outputs": [
    {
     "name": "stdout",
     "output_type": "stream",
     "text": [
      "Public Values: p=23, g=5\n",
      "Keerthana Private Key: 6\n",
      "Keerthana Computed Shared Secret: 6\n",
      "Vishnu Computed Shared Secret: 6\n",
      "Key exchange successful! Shared Secret: 6\n"
     ]
    }
   ],
   "source": [
    "#Diffie-Hellman Key Exchange Simulation\n",
    "\n",
    "import random\n",
    "\n",
    "# Step 1: Choose a prime number p and a base g\n",
    "p = 23  # Small prime number\n",
    "g = 5   # Primitive root modulo p\n",
    "\n",
    "# Step 2: Each person selects a private key\n",
    "a = random.randint(1, p-1)  # Keerthana\n",
    "b = random.randint(1, p-1)  # Vishnu\n",
    "\n",
    "# Step 3: Compute public keys\n",
    "A = pow(g, a, p)  # A = g^a mod p\n",
    "B = pow(g, b, p)  # B = g^b mod p\n",
    "\n",
    "# Step 4: Exchange public keys and compute shared secret\n",
    "s1 = pow(B, a, p)  # Keerthana computes shared secret\n",
    "s2 = pow(A, b, p)  # Vishnu computes shared secret\n",
    "\n",
    "print(f\"Public Values: p={p}, g={g}\")\n",
    "print(f\"Keerthana Private Key: {a}\")\n",
    "print(f\"Keerthana Computed Shared Secret: {s1}\")\n",
    "print(f\"Vishnu Computed Shared Secret: {s2}\")\n",
    "\n",
    "# Verify if both computed the same secret key\n",
    "assert s1 == s2, \"Error: Shared secrets do not match!\"\n",
    "print(\"Key exchange successful! Shared Secret:\", s1)\n"
   ]
  },
  {
   "cell_type": "code",
   "execution_count": null,
   "id": "2b2a30c2-a123-4200-981e-62871f71d756",
   "metadata": {},
   "outputs": [],
   "source": []
  },
  {
   "cell_type": "code",
   "execution_count": null,
   "id": "64235ebe-5aa5-4746-801c-a1010bc596f4",
   "metadata": {},
   "outputs": [],
   "source": []
  }
 ],
 "metadata": {
  "kernelspec": {
   "display_name": "Python 3 (ipykernel)",
   "language": "python",
   "name": "python3"
  },
  "language_info": {
   "codemirror_mode": {
    "name": "ipython",
    "version": 3
   },
   "file_extension": ".py",
   "mimetype": "text/x-python",
   "name": "python",
   "nbconvert_exporter": "python",
   "pygments_lexer": "ipython3",
   "version": "3.11.7"
  }
 },
 "nbformat": 4,
 "nbformat_minor": 5
}
